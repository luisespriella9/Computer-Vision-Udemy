{
 "cells": [
  {
   "cell_type": "code",
   "execution_count": 1,
   "metadata": {},
   "outputs": [],
   "source": [
    "import numpy as np\n",
    "import matplotlib.pyplot as plt\n",
    "import cv2"
   ]
  },
  {
   "cell_type": "markdown",
   "metadata": {},
   "source": [
    "### Get files"
   ]
  },
  {
   "cell_type": "code",
   "execution_count": 2,
   "metadata": {},
   "outputs": [],
   "source": [
    "working_directory = 'DATA'"
   ]
  },
  {
   "cell_type": "code",
   "execution_count": 3,
   "metadata": {},
   "outputs": [
    {
     "name": "stdout",
     "output_type": "stream",
     "text": [
      " Volume in drive C is Local Disk\n",
      " Volume Serial Number is FE3C-B042\n",
      "\n",
      " Directory of C:\\Users\\luisf\\github\\Computer-Vision-Udemy\\DATA\n",
      "\n",
      "05/27/2020  11:08 AM    <DIR>          .\n",
      "05/27/2020  11:08 AM    <DIR>          ..\n",
      "05/27/2020  11:08 AM    <DIR>          .ipynb_checkpoints\n",
      "05/27/2020  11:08 AM           193,288 00-puppy.jpg\n",
      "05/27/2020  11:08 AM            46,400 bank_note_data.txt\n",
      "05/27/2020  11:08 AM           500,238 bricks.jpg\n",
      "05/27/2020  11:08 AM           494,070 cartoon_receipt.jpg\n",
      "05/27/2020  11:08 AM            22,394 car_plate.jpg\n",
      "05/27/2020  11:08 AM         1,036,601 chessboard_mat.jpg\n",
      "05/27/2020  11:08 AM         2,918,981 coins_on_white.jpg\n",
      "05/27/2020  11:08 AM           533,390 crossword.jpg\n",
      "05/27/2020  11:08 AM         2,949,661 damien_hirst_dot.jpg\n",
      "05/27/2020  11:08 AM           127,252 Denis_Mukwege.jpg\n",
      "05/27/2020  11:08 AM           167,836 dog_backpack.jpg\n",
      "05/27/2020  11:08 AM           167,836 dog_backpack.png\n",
      "05/27/2020  11:08 AM             7,627 dot_grid.png\n",
      "05/27/2020  11:08 AM         6,514,387 finger_move.mp4\n",
      "05/27/2020  11:08 AM            20,275 five_shapes.PNG\n",
      "05/27/2020  11:08 AM             1,277 flat_chessboard.png\n",
      "05/27/2020  11:08 AM           326,645 giraffes.jpg\n",
      "05/27/2020  11:08 AM           691,950 gorilla.jpg\n",
      "05/27/2020  11:08 AM    <DIR>          haarcascades\n",
      "05/27/2020  11:08 AM           545,178 hand_move.mp4\n",
      "05/27/2020  11:08 AM           213,185 horse.jpg\n",
      "05/27/2020  11:08 AM            36,180 internal_external.png\n",
      "05/27/2020  11:08 AM    <DIR>          lbpcascades\n",
      "05/27/2020  11:08 AM            60,088 Logo.jpg\n",
      "05/27/2020  11:08 AM            45,344 lucky_charms.jpg\n",
      "05/27/2020  11:08 AM           209,886 many_cereals.jpg\n",
      "05/27/2020  11:08 AM            67,842 Nadia_Murad.jpg\n",
      "05/27/2020  11:08 AM         4,124,234 overlap_coins.jpg\n",
      "05/27/2020  11:08 AM         2,335,456 pennies.jpg\n",
      "05/27/2020  11:08 AM            14,558 rainbow.jpg\n",
      "05/27/2020  11:08 AM            67,873 real_chessboard.jpg\n",
      "05/27/2020  11:08 AM           962,613 ReceiptSwiss.jpg\n",
      "05/27/2020  11:08 AM           209,589 reeses_puffs.png\n",
      "05/27/2020  11:08 AM            75,430 road_image.jpg\n",
      "05/27/2020  11:08 AM           485,972 sammy.jpg\n",
      "05/27/2020  11:08 AM            96,839 sammy_face.jpg\n",
      "05/27/2020  11:08 AM         1,246,104 sammy_noise.jpg\n",
      "05/27/2020  11:08 AM         4,305,302 separate_coins.jpg\n",
      "05/27/2020  11:08 AM           276,490 solvay_conference.jpg\n",
      "05/27/2020  11:08 AM           480,270 sudoku.jpg\n",
      "05/27/2020  11:08 AM           363,184 uspassport.jpg\n",
      "05/27/2020  11:08 AM           778,134 video_capture.mp4\n",
      "05/27/2020  11:08 AM           172,526 watermark_no_copy.png\n",
      "05/27/2020  11:08 AM           897,997 wood_detail.jpg\n",
      "              42 File(s)     34,790,382 bytes\n",
      "               5 Dir(s)  381,782,446,080 bytes free\n"
     ]
    }
   ],
   "source": [
    "!dir DATA"
   ]
  },
  {
   "cell_type": "markdown",
   "metadata": {},
   "source": [
    "# Optical Flow"
   ]
  },
  {
   "cell_type": "code",
   "execution_count": 2,
   "metadata": {},
   "outputs": [],
   "source": [
    "# corner detection\n",
    "corner_track_params = dict(maxCorners=10, qualityLevel=0.3, minDistance=7, blockSize=7)\n",
    "lk_params = dict(winSize=(200, 200), maxLevel=2, criteria=(cv2.TERM_CRITERIA_EPS | cv2.TERM_CRITERIA_COUNT, 10, 0.03))"
   ]
  },
  {
   "cell_type": "markdown",
   "metadata": {},
   "source": [
    "## Lucas Kanade Method"
   ]
  },
  {
   "cell_type": "code",
   "execution_count": 9,
   "metadata": {},
   "outputs": [],
   "source": [
    "capture = cv2.VideoCapture(0)\n",
    "\n",
    "ret, prev_frame = capture.read()\n",
    "\n",
    "prev_frame_gray = cv2.cvtColor(prev_frame, cv2.COLOR_BGR2GRAY)\n",
    "\n",
    "# Points to track\n",
    "prev_points = cv2.goodFeaturesToTrack(prev_frame_gray, mask=None, **corner_track_params)\n",
    "\n",
    "# for visualization (drawing on later)\n",
    "mask = np.zeros_like(prev_frame)\n",
    "\n",
    "while True:\n",
    "    ret, frame = capture.read(0)\n",
    "    frame_gray = cv2.cvtColor(frame, cv2.COLOR_BGR2GRAY)\n",
    "    next_points, status, error = cv2.calcOpticalFlowPyrLK(prev_frame_gray, frame_gray, prev_points, None, **lk_params)\n",
    "    \n",
    "    good_new_points = next_points[status==1]\n",
    "    good_prev_points = prev_points[status==1]\n",
    "    \n",
    "    for i, (new_p, prev_p) in enumerate(zip(good_new_points, good_prev_points)):\n",
    "        x_new, y_new = new_p.ravel()\n",
    "        x_prev, y_prev = prev_p.ravel()\n",
    "        \n",
    "        mask = cv2.line(mask, (x_new, y_new), (x_prev, y_prev), (0, 255, 0), 3)\n",
    "        \n",
    "        frame = cv2.circle(frame, (x_new, y_new), 8, (0, 0, 255), -1)\n",
    "        \n",
    "    img = cv2.add(frame, mask)\n",
    "    cv2.imshow('tracking', img)\n",
    "    \n",
    "    k = cv2.waitKey(30) & 0xFF\n",
    "    if k==27:\n",
    "        break\n",
    "        \n",
    "    prev_frame_gray = frame_gray.copy()\n",
    "    prev_points = good_new_points.reshape(-1, 1, 2)\n",
    "    \n",
    "cv2.destroyAllWindows()\n",
    "capture.release()"
   ]
  },
  {
   "cell_type": "markdown",
   "metadata": {},
   "source": [
    "## Dense Optical Flow"
   ]
  },
  {
   "cell_type": "code",
   "execution_count": 8,
   "metadata": {},
   "outputs": [],
   "source": [
    "capture = cv2.VideoCapture(0)\n",
    "\n",
    "ret, prev_frame = capture.read()\n",
    "\n",
    "prev_frame_gray = cv2.cvtColor(prev_frame, cv2.COLOR_BGR2GRAY)\n",
    "\n",
    "\n",
    "# hsv mask (Hue Saturation Value)\n",
    "hsv_mask = np.zeros_like(prev_frame)\n",
    "hsv_mask[:, :, 1] = 255\n",
    "\n",
    "while True:\n",
    "    ret, frame = capture.read(0)\n",
    "    frame_gray = cv2.cvtColor(frame, cv2.COLOR_BGR2GRAY)\n",
    "    flow = cv2.calcOpticalFlowFarneback(prev_frame_gray,frame_gray, None, 0.5, 3, 15, 3, 5, 1.2, 0)\n",
    "    \n",
    "    #conver to polar coordinates\n",
    "    mag, ang = cv2.cartToPolar(flow[:,:,0], flow[:,:,1], angleInDegrees=True)\n",
    "    \n",
    "    # operation to identify a certain direction better\n",
    "    hsv_mask[:,:,0] = ang/2\n",
    "    # normalize values bw 0 and 255\n",
    "    hsv_mask[:,:,2]= cv2.normalize(mag, None, 0, 255, cv2.NORM_MINMAX)\n",
    "        \n",
    "    img = cv2.cvtColor(hsv_mask, cv2.COLOR_HSV2BGR)\n",
    "    cv2.imshow('frame', img)\n",
    "    \n",
    "    k = cv2.waitKey(30) & 0xFF\n",
    "    if k==27:\n",
    "        break\n",
    "        \n",
    "    prev_frame_gray = frame_gray.copy()\n",
    "    \n",
    "cv2.destroyAllWindows()\n",
    "capture.release()"
   ]
  },
  {
   "cell_type": "markdown",
   "metadata": {},
   "source": [
    "# MeanShift and CamShift tracking"
   ]
  },
  {
   "cell_type": "code",
   "execution_count": 7,
   "metadata": {},
   "outputs": [],
   "source": [
    "classifier = cv2.CascadeClassifier(working_directory+'/haarcascades/haarcascade_frontalface_default.xml')"
   ]
  },
  {
   "cell_type": "code",
   "execution_count": 8,
   "metadata": {},
   "outputs": [],
   "source": [
    "def detect_face(img):\n",
    "    face_img = img.copy()\n",
    "    face_positions = classifier.detectMultiScale(face_img)\n",
    "    tuple(face_positions[0])\n",
    "    return tuple(face_positions[0])"
   ]
  },
  {
   "cell_type": "code",
   "execution_count": 17,
   "metadata": {},
   "outputs": [],
   "source": [
    "capture = cv2.VideoCapture(0)\n",
    "\n",
    "ret, frame = capture.read()\n",
    "\n",
    "(face_x, face_y, width, height) = detect_face(frame)\n",
    "track_window = (face_x, face_y, width, height)\n",
    "\n",
    "roi = frame[face_y:face_y+height, face_x:face_x+width]\n",
    "\n",
    "hsv_roi = cv2.cvtColor(roi, cv2.COLOR_BGR2HSV)\n",
    "\n",
    "# calculate color histogram for image\n",
    "roi_hist = cv2.calcHist([hsv_roi], [0], None, [180], [0, 180])\n",
    "\n",
    "cv2.normalize(roi_hist, roi_hist, 0, 255, cv2.NORM_MINMAX) # normalize histogram array values\n",
    "\n",
    "# set criteria\n",
    "criteria = (cv2.TERM_CRITERIA_EPS | cv2.TERM_CRITERIA_COUNT, 10, 1)\n",
    "\n",
    "while True:\n",
    "    ret, frame = capture.read(0)\n",
    "    \n",
    "    if ret:\n",
    "        # image to hsv\n",
    "        hsv_frame = cv2.cvtColor(frame, cv2.COLOR_BGR2HSV)\n",
    "        \n",
    "        # Back Projection is a way of recording how well the pixels of a given image fit the distribution of pixels in a histogram model\n",
    "        dst = cv2.calcBackProject([hsv_frame], [0], roi_hist, [0, 180], 1)\n",
    "        \n",
    "        # perform mean shift\n",
    "        ret, track_window = cv2.CamShift(dst, track_window, criteria)\n",
    "        \n",
    "        points = cv2.boxPoints(ret)\n",
    "        points = np.int0(points)\n",
    "        \n",
    "        new_image = cv2.polylines(frame, [points], True, (0, 0, 255), 5)\n",
    "        \n",
    "        cv2.imshow('img', new_image)\n",
    "    \n",
    "        k = cv2.waitKey(1) & 0xFF\n",
    "        if k==27:\n",
    "            break\n",
    "    else:\n",
    "        break\n",
    "    \n",
    "cv2.destroyAllWindows()\n",
    "capture.release()"
   ]
  }
 ],
 "metadata": {
  "kernelspec": {
   "display_name": "Python 3",
   "language": "python",
   "name": "python3"
  },
  "language_info": {
   "codemirror_mode": {
    "name": "ipython",
    "version": 3
   },
   "file_extension": ".py",
   "mimetype": "text/x-python",
   "name": "python",
   "nbconvert_exporter": "python",
   "pygments_lexer": "ipython3",
   "version": "3.6.10"
  }
 },
 "nbformat": 4,
 "nbformat_minor": 4
}
