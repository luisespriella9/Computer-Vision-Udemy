{
  "nbformat": 4,
  "nbformat_minor": 0,
  "metadata": {
    "colab": {
      "name": "CNN Fashion MNIST.ipynb",
      "provenance": [],
      "collapsed_sections": [],
      "machine_shape": "hm",
      "authorship_tag": "ABX9TyOOImDBEy4XwLuZqiRO3zzm",
      "include_colab_link": true
    },
    "kernelspec": {
      "name": "python3",
      "display_name": "Python 3"
    },
    "accelerator": "GPU"
  },
  "cells": [
    {
      "cell_type": "markdown",
      "metadata": {
        "id": "view-in-github",
        "colab_type": "text"
      },
      "source": [
        "<a href=\"https://colab.research.google.com/github/luisespriella9/Deep-Learning-Advanced-Computer-Vision/blob/master/CNN_Fashion_MNIST.ipynb\" target=\"_parent\"><img src=\"https://colab.research.google.com/assets/colab-badge.svg\" alt=\"Open In Colab\"/></a>"
      ]
    },
    {
      "cell_type": "markdown",
      "metadata": {
        "id": "N6OWjiuy2Gex",
        "colab_type": "text"
      },
      "source": [
        "Import Libraries"
      ]
    },
    {
      "cell_type": "code",
      "metadata": {
        "id": "SQbpb1mD2IVQ",
        "colab_type": "code",
        "colab": {
          "base_uri": "https://localhost:8080/",
          "height": 35
        },
        "outputId": "4f5425fc-b205-4077-8ad5-bfe9f2f9a832"
      },
      "source": [
        "import pandas as pd\n",
        "import numpy as np\n",
        "import matplotlib.pyplot as plt\n",
        "import keras\n",
        "from keras.datasets import fashion_mnist\n",
        "from keras.layers import Conv2D, MaxPooling2D, Dense, Flatten, BatchNormalization, Activation, Dropout\n",
        "from keras import Sequential"
      ],
      "execution_count": 1,
      "outputs": [
        {
          "output_type": "stream",
          "text": [
            "Using TensorFlow backend.\n"
          ],
          "name": "stderr"
        }
      ]
    },
    {
      "cell_type": "markdown",
      "metadata": {
        "id": "s_pgSoaM1sxX",
        "colab_type": "text"
      },
      "source": [
        "Load Fashion MNIST Data"
      ]
    },
    {
      "cell_type": "code",
      "metadata": {
        "id": "YmuOmecO1M8q",
        "colab_type": "code",
        "colab": {}
      },
      "source": [
        "(x_train, y_train), (x_test, y_test) = fashion_mnist.load_data()"
      ],
      "execution_count": 0,
      "outputs": []
    },
    {
      "cell_type": "code",
      "metadata": {
        "id": "-9KtOUp86MFr",
        "colab_type": "code",
        "colab": {
          "base_uri": "https://localhost:8080/",
          "height": 87
        },
        "outputId": "e147c511-baac-424c-cf74-9a422125861c"
      },
      "source": [
        "print(\"x train shape: \", x_train.shape)\n",
        "print(\"y train shape: \", y_train.shape)\n",
        "print(\"x test shape: \", x_test.shape)\n",
        "print(\"y test shape: \", y_test.shape)"
      ],
      "execution_count": 3,
      "outputs": [
        {
          "output_type": "stream",
          "text": [
            "x train shape:  (60000, 28, 28)\n",
            "y train shape:  (60000,)\n",
            "x test shape:  (10000, 28, 28)\n",
            "y test shape:  (10000,)\n"
          ],
          "name": "stdout"
        }
      ]
    },
    {
      "cell_type": "markdown",
      "metadata": {
        "id": "TVZFICk3BTCi",
        "colab_type": "text"
      },
      "source": [
        "Reshape and Normalize Data"
      ]
    },
    {
      "cell_type": "code",
      "metadata": {
        "id": "Zpu3eUEl-Mkq",
        "colab_type": "code",
        "colab": {}
      },
      "source": [
        "x_train = np.reshape(x_train, (60000, 28, 28, 1))/255\n",
        "x_test = np.reshape(x_test, (10000, 28, 28, 1))/255"
      ],
      "execution_count": 0,
      "outputs": []
    },
    {
      "cell_type": "code",
      "metadata": {
        "id": "6VDG_dw0-obN",
        "colab_type": "code",
        "colab": {
          "base_uri": "https://localhost:8080/",
          "height": 52
        },
        "outputId": "4ae74d88-1e96-4baf-f4e1-1d571355dc84"
      },
      "source": [
        "print(\"x train shape: \", x_train.shape)\n",
        "print(\"x test shape: \", x_test.shape)"
      ],
      "execution_count": 5,
      "outputs": [
        {
          "output_type": "stream",
          "text": [
            "x train shape:  (60000, 28, 28, 1)\n",
            "x test shape:  (10000, 28, 28, 1)\n"
          ],
          "name": "stdout"
        }
      ]
    },
    {
      "cell_type": "code",
      "metadata": {
        "id": "WE5Q0yjm-2Iv",
        "colab_type": "code",
        "colab": {
          "base_uri": "https://localhost:8080/",
          "height": 35
        },
        "outputId": "cf3a24a9-de42-47ef-e570-9a88a4fa3335"
      },
      "source": [
        "print(\"x train sample shape: \", x_train[0].shape)"
      ],
      "execution_count": 6,
      "outputs": [
        {
          "output_type": "stream",
          "text": [
            "x train sample shape:  (28, 28, 1)\n"
          ],
          "name": "stdout"
        }
      ]
    },
    {
      "cell_type": "code",
      "metadata": {
        "id": "T71fQPVTCc6H",
        "colab_type": "code",
        "colab": {
          "base_uri": "https://localhost:8080/",
          "height": 35
        },
        "outputId": "29158ff0-ba31-4fca-bc22-ece73b6d6dd8"
      },
      "source": [
        "num_classes = len(np.unique(y_train))\n",
        "num_classes"
      ],
      "execution_count": 7,
      "outputs": [
        {
          "output_type": "execute_result",
          "data": {
            "text/plain": [
              "10"
            ]
          },
          "metadata": {
            "tags": []
          },
          "execution_count": 7
        }
      ]
    },
    {
      "cell_type": "markdown",
      "metadata": {
        "id": "ANMvkam3FK9m",
        "colab_type": "text"
      },
      "source": [
        "convert class vectors to binary class matrices"
      ]
    },
    {
      "cell_type": "code",
      "metadata": {
        "id": "hfgLSeBxFJQQ",
        "colab_type": "code",
        "colab": {}
      },
      "source": [
        "y_train = keras.utils.to_categorical(y_train, num_classes)\n",
        "y_test = keras.utils.to_categorical(y_test, num_classes)"
      ],
      "execution_count": 0,
      "outputs": []
    },
    {
      "cell_type": "markdown",
      "metadata": {
        "id": "FHymoKRv1v3X",
        "colab_type": "text"
      },
      "source": [
        "Create CNN Keras"
      ]
    },
    {
      "cell_type": "code",
      "metadata": {
        "id": "IetJ2n6_3WQf",
        "colab_type": "code",
        "colab": {}
      },
      "source": [
        "def build_cnn(input_shape, num_classes, optimizer='adam', loss='categorical_crossentropy', metrics=['accuracy']):\n",
        "  classifier = Sequential()\n",
        "\n",
        "  # first convolution\n",
        "  classifier.add(Conv2D(filters=64, kernel_size=(3, 3), input_shape= input_shape, activation='relu', padding='same'))\n",
        "  classifier.add(BatchNormalization())\n",
        "  classifier.add(Conv2D(filters=64, kernel_size=(3, 3), activation='relu', padding='same'))\n",
        "  classifier.add(BatchNormalization())\n",
        "  classifier.add(MaxPooling2D(pool_size=(2, 2)))\n",
        "\n",
        "  # second convolution\n",
        "  classifier.add(Conv2D(filters=128, kernel_size=(3, 3), activation='relu', padding='same'))\n",
        "  classifier.add(BatchNormalization())\n",
        "  classifier.add(Conv2D(filters=128, kernel_size=(3, 3), activation='relu', padding='same'))\n",
        "  classifier.add(BatchNormalization())\n",
        "  classifier.add(MaxPooling2D(pool_size=(2, 2)))\n",
        "\n",
        "  # third convolution\n",
        "  classifier.add(Conv2D(filters=256, kernel_size=(3, 3), activation='relu', padding='same'))\n",
        "  classifier.add(BatchNormalization())\n",
        "  classifier.add(Conv2D(filters=256, kernel_size=(3, 3), activation='relu', padding='same'))\n",
        "  classifier.add(BatchNormalization())\n",
        "  classifier.add(MaxPooling2D(pool_size=(2, 2)))\n",
        "\n",
        "  # flatten layer\n",
        "  classifier.add(Flatten())\n",
        "\n",
        "  # Full connection\n",
        "  classifier.add(Dense(units = 80, activation = 'relu'))\n",
        "  classifier.add(Dropout(rate=0.4))\n",
        "  classifier.add(Dense(units=num_classes, activation='softmax'))\n",
        "\n",
        "  classifier.compile(optimizer=optimizer, loss=loss, metrics=metrics)\n",
        "  return classifier"
      ],
      "execution_count": 0,
      "outputs": []
    },
    {
      "cell_type": "markdown",
      "metadata": {
        "id": "KhmmsNMU1xzN",
        "colab_type": "text"
      },
      "source": [
        "Train CNN"
      ]
    },
    {
      "cell_type": "code",
      "metadata": {
        "id": "wUltIy8y6gD5",
        "colab_type": "code",
        "colab": {
          "base_uri": "https://localhost:8080/",
          "height": 208
        },
        "outputId": "3398c1c9-f298-4ce4-ea7a-36ff64c3a829"
      },
      "source": [
        "classifier = build_cnn(input_shape=x_train[0].shape, num_classes=num_classes)\n",
        "history = classifier.fit(x=x_train, y=y_train, batch_size=32, epochs=5, validation_split=0.3, shuffle=True)"
      ],
      "execution_count": 10,
      "outputs": [
        {
          "output_type": "stream",
          "text": [
            "Train on 42000 samples, validate on 18000 samples\n",
            "Epoch 1/5\n",
            "42000/42000 [==============================] - 22s 520us/step - loss: 0.6132 - accuracy: 0.7799 - val_loss: 0.3459 - val_accuracy: 0.8688\n",
            "Epoch 2/5\n",
            "42000/42000 [==============================] - 19s 457us/step - loss: 0.4005 - accuracy: 0.8597 - val_loss: 0.3030 - val_accuracy: 0.8936\n",
            "Epoch 3/5\n",
            "42000/42000 [==============================] - 19s 460us/step - loss: 0.3342 - accuracy: 0.8837 - val_loss: 0.2725 - val_accuracy: 0.9103\n",
            "Epoch 4/5\n",
            "42000/42000 [==============================] - 20s 468us/step - loss: 0.2821 - accuracy: 0.8999 - val_loss: 0.2684 - val_accuracy: 0.9048\n",
            "Epoch 5/5\n",
            "42000/42000 [==============================] - 19s 460us/step - loss: 0.2511 - accuracy: 0.9126 - val_loss: 0.2357 - val_accuracy: 0.9171\n"
          ],
          "name": "stdout"
        }
      ]
    },
    {
      "cell_type": "code",
      "metadata": {
        "id": "eVtUCM4u7v8d",
        "colab_type": "code",
        "colab": {
          "base_uri": "https://localhost:8080/",
          "height": 295
        },
        "outputId": "723ca238-68f4-4d1c-c4a8-dc09d13bb123"
      },
      "source": [
        "history.history"
      ],
      "execution_count": 11,
      "outputs": [
        {
          "output_type": "execute_result",
          "data": {
            "text/plain": [
              "{'accuracy': [0.77992857, 0.8596905, 0.8837381, 0.8999048, 0.91257143],\n",
              " 'loss': [0.6131530896822611,\n",
              "  0.40045124406473975,\n",
              "  0.3342170701339131,\n",
              "  0.2821255776740256,\n",
              "  0.25105416998551006],\n",
              " 'val_accuracy': [0.8687777519226074,\n",
              "  0.8935555815696716,\n",
              "  0.9103333353996277,\n",
              "  0.9048333168029785,\n",
              "  0.9171110987663269],\n",
              " 'val_loss': [0.3458537438842985,\n",
              "  0.3029531278014183,\n",
              "  0.2725238166550795,\n",
              "  0.26836946143044366,\n",
              "  0.23573489825924238]}"
            ]
          },
          "metadata": {
            "tags": []
          },
          "execution_count": 11
        }
      ]
    },
    {
      "cell_type": "markdown",
      "metadata": {
        "id": "5CP1fhTg1ysy",
        "colab_type": "text"
      },
      "source": [
        "Plot Loss"
      ]
    },
    {
      "cell_type": "code",
      "metadata": {
        "id": "HJhsN8tTAria",
        "colab_type": "code",
        "colab": {
          "base_uri": "https://localhost:8080/",
          "height": 265
        },
        "outputId": "8eb069b3-73d0-4765-ced3-e6a72728eb39"
      },
      "source": [
        "plt.plot(history.history['loss'], label='training loss')\n",
        "plt.plot(history.history['val_loss'], label='validation loss')\n",
        "plt.ylabel('loss')\n",
        "plt.legend()\n",
        "plt.show()"
      ],
      "execution_count": 12,
      "outputs": [
        {
          "output_type": "display_data",
          "data": {
            "image/png": "[encoded data removed]",
            "text/plain": [
              "<Figure size 432x288 with 1 Axes>"
            ]
          },
          "metadata": {
            "tags": [],
            "needs_background": "light"
          }
        }
      ]
    },
    {
      "cell_type": "markdown",
      "metadata": {
        "id": "ZeJU2U5K11Ro",
        "colab_type": "text"
      },
      "source": [
        "Plot Accuracy"
      ]
    },
    {
      "cell_type": "code",
      "metadata": {
        "id": "v4ve-bZ9FpuR",
        "colab_type": "code",
        "colab": {
          "base_uri": "https://localhost:8080/",
          "height": 265
        },
        "outputId": "4603c1ba-d0ab-4cc8-8a97-4f34bbad8861"
      },
      "source": [
        "plt.plot(history.history['accuracy'], label='training accuracy')\n",
        "plt.plot(history.history['val_accuracy'], label='validation accuracy')\n",
        "plt.ylabel('accuracy')\n",
        "plt.legend()\n",
        "plt.show()"
      ],
      "execution_count": 13,
      "outputs": [
        {
          "output_type": "display_data",
          "data": {
            "image/png": "[encoded data removed]",
            "text/plain": [
              "<Figure size 432x288 with 1 Axes>"
            ]
          },
          "metadata": {
            "tags": [],
            "needs_background": "light"
          }
        }
      ]
    }
  ]
}