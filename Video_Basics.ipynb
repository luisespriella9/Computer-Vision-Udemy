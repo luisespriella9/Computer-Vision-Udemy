{
 "cells": [
  {
   "cell_type": "markdown",
   "metadata": {
    "colab_type": "text",
    "id": "5ejpv0lvkT2i"
   },
   "source": [
    "# Connect to camera"
   ]
  },
  {
   "cell_type": "markdown",
   "metadata": {},
   "source": [
    "## Take and save video"
   ]
  },
  {
   "cell_type": "code",
   "execution_count": 1,
   "metadata": {
    "colab": {
     "base_uri": "https://localhost:8080/",
     "height": 253
    },
    "colab_type": "code",
    "id": "uqiVAcj0kJd9",
    "outputId": "69b3c60f-396d-4eb8-8fe5-422eacb672a8"
   },
   "outputs": [
    {
     "name": "stdout",
     "output_type": "stream",
     "text": [
      "width:  640  height:  480\n"
     ]
    }
   ],
   "source": [
    "import cv2\n",
    "\n",
    "capture = cv2.VideoCapture(0) # grab default camera\n",
    "width = int(capture.get(cv2.CAP_PROP_FRAME_WIDTH))\n",
    "height = int(capture.get(cv2.CAP_PROP_FRAME_HEIGHT))\n",
    "print(\"width: \", width, \" height: \", height)\n",
    "\n",
    "file_path = 'mytestvideo.mp4'\n",
    "frames_per_second = 20\n",
    "writer = cv2.VideoWriter(file_path, cv2.VideoWriter_fourcc(*'DIVX'), frames_per_second, (width, height))\n",
    "\n",
    "while True:\n",
    "    ret, frame = capture.read()\n",
    "    \n",
    "    # operations (draw)\n",
    "    writer.write(frame)\n",
    "    cv2.imshow('frame', frame)\n",
    "    \n",
    "    if cv2.waitKey(1) & 0xFF == ord('q'):\n",
    "        break\n",
    "\n",
    "capture.release()\n",
    "cv2.destroyAllWindows()"
   ]
  },
  {
   "cell_type": "markdown",
   "metadata": {},
   "source": [
    "## Drawing on video"
   ]
  },
  {
   "cell_type": "code",
   "execution_count": 2,
   "metadata": {},
   "outputs": [],
   "source": [
    "import time\n",
    "    \n",
    "## callback function rectangle\n",
    "def draw_rectangle(event, x, y, flags, params):\n",
    "    #cv2.rectangle(frame, pt1=(x_rectangle, y_rectangle), pt2=(x_rectangle+rectangle_width, y_rectangle+rectangle_height), color=(0, 0, 255), thickness=4)\n",
    "    global pt1, pt2, top_left_clicked, bottom_right_clicked\n",
    "    \n",
    "    if event == cv2.EVENT_LBUTTONDOWN:\n",
    "        # reset if already drawn\n",
    "        if top_left_clicked & bottom_right_clicked:\n",
    "            pt1 = (0, 0) #top left\n",
    "            pt2 = (0, 0) #bottom right\n",
    "            top_left_clicked = False\n",
    "            bottom_right_clicked = False\n",
    "        if not top_left_clicked:\n",
    "            pt1 = (x, y)\n",
    "            top_left_clicked = True\n",
    "        elif top_left_clicked and not bottom_right_clicked:\n",
    "            pt2 = (x, y)\n",
    "            bottom_right_clicked = True\n",
    "\n",
    "## global variables\n",
    "pt1 = (0, 0) #top left\n",
    "pt2 = (0, 0) #bottom right\n",
    "top_left_clicked = False\n",
    "bottom_right_clicked = False\n",
    "\n",
    "## connect to callback\n",
    "capture = cv2.VideoCapture(0)\n",
    "\n",
    "cv2.namedWindow('Test')\n",
    "cv2.setMouseCallback('Test', draw_rectangle)\n",
    "\n",
    "if capture.isOpened() == False:\n",
    "    print(\"Error. file not found\")\n",
    "    \n",
    "while capture.isOpened():\n",
    "    ret, frame = capture.read()\n",
    "    \n",
    "    if ret==True:\n",
    "        time.sleep(1/frames_per_second)\n",
    "        \n",
    "        # draw on the frame based on global variables\n",
    "        if top_left_clicked:\n",
    "            cv2.circle(frame, center=pt1, radius=5, color=(0, 0, 255), thickness=-1)\n",
    "        \n",
    "        if top_left_clicked and bottom_right_clicked:\n",
    "            cv2.rectangle(frame, pt1=pt1, pt2=pt2, color=(0, 0, 255), thickness=3)\n",
    "        \n",
    "        # show frame\n",
    "        cv2.imshow('Test', frame)\n",
    "        \n",
    "        if cv2.waitKey(1) & 0xFF == ord('q'):\n",
    "            break\n",
    "    else:\n",
    "        break\n",
    "        \n",
    "capture.release()\n",
    "cv2.destroyAllWindows()"
   ]
  }
 ],
 "metadata": {
  "colab": {
   "authorship_tag": "ABX9TyMUYu7iGrjcUaD5XMghNNRR",
   "include_colab_link": true,
   "name": "Video Basics.ipynb",
   "provenance": []
  },
  "kernelspec": {
   "display_name": "Python 3",
   "language": "python",
   "name": "python3"
  },
  "language_info": {
   "codemirror_mode": {
    "name": "ipython",
    "version": 3
   },
   "file_extension": ".py",
   "mimetype": "text/x-python",
   "name": "python",
   "nbconvert_exporter": "python",
   "pygments_lexer": "ipython3",
   "version": "3.6.10"
  }
 },
 "nbformat": 4,
 "nbformat_minor": 1
}
